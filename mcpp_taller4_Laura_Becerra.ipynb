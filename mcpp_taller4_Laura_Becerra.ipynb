{
 "cells": [
  {
   "cell_type": "markdown",
   "metadata": {},
   "source": [
    "# Taller 4\n",
    "Métodos Computacionales para Políticas Públicas - URosario\n",
    "\n",
    "**Entrega: viernes 2-sep-2016 11:59 PM**"
   ]
  },
  {
   "cell_type": "markdown",
   "metadata": {},
   "source": [
    "<div class=\"alert alert-success\">\n",
    "**[Laura Becerra]** <br><br>\n",
    "[l.becerra52@uniandes.edu.co]\n",
    "</div>"
   ]
  },
  {
   "cell_type": "markdown",
   "metadata": {},
   "source": [
    "## Instrucciones:\n",
    "- Guarde una copia de este *Jupyter Notebook* en su computador, idealmente en una carpeta destinada al material del curso.\n",
    "- Modifique el nombre del archivo del *notebook*, agregando al final un guión inferior y su nombre y apellido, separados estos últimos por otro guión inferior. Por ejemplo, mi *notebook* se llamaría: mcpp_taller4_santiago_matallana\n",
    "- Marque el *notebook* con su nombre y e-mail en el bloque verde arriba. Reemplace el texto \"[Su nombre acá]\" con su nombre y apellido. Similar para su e-mail.\n",
    "- Desarrolle la totalidad del taller sobre este *notebook*, insertando las celdas que sea necesario debajo de cada pregunta. Haga buen uso de las celdas para código y de las celdas tipo *markdown* según el caso.\n",
    "- Recuerde salvar periódicamente sus avances.\n",
    "- Cuando termine el taller:\n",
    "    1. Descárguelo en PDF.\n",
    "    2. Suba los dos archivos (.pdf y .ipynb) a su repositorio en GitHub antes de la fecha y hora límites.\n",
    "\n",
    "(Todos los ejercicios tienen el mismo valor.)"
   ]
  },
  {
   "cell_type": "markdown",
   "metadata": {},
   "source": [
    "---"
   ]
  },
  {
   "cell_type": "markdown",
   "metadata": {},
   "source": [
    "## Zelle, Exercises 6.8 (p. 159):\n",
    "\n",
    "- True/False: 1-10\n",
    "- Multiple choice: 2, 3, 6, 7, 10\n",
    "- Programming Exercises: 1, 3, 4, 11, 12, 13"
   ]
  },
  {
   "cell_type": "markdown",
   "metadata": {},
   "source": [
    "True/False:"
   ]
  },
  {
   "cell_type": "markdown",
   "metadata": {
    "collapsed": false
   },
   "source": [
    "1. Programmers rarely define their own functions: Falso,los programadores usan funciones para reducir la dupplicación de códigod y hacer un programa más ordenado. \n",
    "2. A function may only be called at one place in a program: Falso, una función puede llamarse varias veces en un programa.\n",
    "3. Information can be passed into a function through parameters: Verdadero\n",
    "4. Every Python function returns some value: Verdadero, siempre y cuando se ponga return porque si no aparece NONE. \n",
    "5. In Python, some parameters are passed by reference: Falso, Python pasa parametros \"by value.\"\n",
    "6. In Python, a function can return only one value: Falso, las funciones pueden dar más de un valor.\n",
    "7. Python functions can never modify a parameter: Falso, las funciones puden modificar objetos mutables como listas.\n",
    "8. One reason to use functions is to reduce code duplication: Verdadero.\n",
    "9. Variables defined in a function are local to that function: Verdadero como lo vimos en clase.\n",
    "10. It's a bad idea to define new functions if it makes a program longer: Falso, las funciones pueden ser de ayuda para organizar el codigo asi el programa resulte más largo. "
   ]
  },
  {
   "cell_type": "markdown",
   "metadata": {},
   "source": [
    "Selección multiple:"
   ]
  },
  {
   "cell_type": "markdown",
   "metadata": {},
   "source": [
    "2.A Python function definition begins with\n",
    "\n",
    "(a) def\n",
    "\n",
    "3.A function can send output back to the program with a(n)\n",
    "\n",
    "(a) return\n",
    "\n",
    "6.In Python, actual parameters are passed to functions\n",
    "\n",
    "(a) by value\n",
    "\n",
    "7.Which of the following is not a reason to use functions?\n",
    "\n",
    "(d) to demonstrate intellectual superiority\n",
    "\n",
    "10.A function can modify the value of an actual parameter only if it's\n",
    "\n",
    "(a) mutable"
   ]
  },
  {
   "cell_type": "markdown",
   "metadata": {},
   "source": [
    "Programming excercises"
   ]
  },
  {
   "cell_type": "markdown",
   "metadata": {},
   "source": [
    "1. Write a program to print the lyrics of the song “Old MacDonald.” Your program should print the lyrics for five different animals, similar to the example verse below.\n",
    "Old MacDonald had a farm, Ee-igh, Ee-igh, Oh! And on that farm he had a cow, Ee-igh, Ee-igh, Oh! With a moo, moo here and a moo, moo there. Here a moo, there a moo, everywhere a moo, moo. Old MacDonald had a farm, Ee-igh, Ee-igh, Oh!"
   ]
  },
  {
   "cell_type": "code",
   "execution_count": 5,
   "metadata": {
    "collapsed": false
   },
   "outputs": [
    {
     "name": "stdout",
     "output_type": "stream",
     "text": [
      "Old MacDonald had a farm, Ee-igh, Ee-igh, Oh!\n",
      "And on the farm he had a  cow, Ee-igh, Ee-igh,Oh!\n",
      "With a moo, moo here and a moo, moo there.\n",
      "Here a moo, there a moo, everyehere a moo, moo.\n",
      "Old MacDonald had a farm, Ee-igh, Ee-igh, Oh!\n",
      "Old MacDonald had a farm, Ee-igh, Ee-igh, Oh!\n",
      "And on the farm he had a  pig, Ee-igh, Ee-igh,Oh!\n",
      "With a oink, oink here and a oink, oink there.\n",
      "Here a oink, there a oink, everyehere a oink, oink.\n",
      "Old MacDonald had a farm, Ee-igh, Ee-igh, Oh!\n",
      "Old MacDonald had a farm, Ee-igh, Ee-igh, Oh!\n",
      "And on the farm he had a  horse, Ee-igh, Ee-igh,Oh!\n",
      "With a neigh, neigh here and a neigh, neigh there.\n",
      "Here a neigh, there a neigh, everyehere a neigh, neigh.\n",
      "Old MacDonald had a farm, Ee-igh, Ee-igh, Oh!\n",
      "Old MacDonald had a farm, Ee-igh, Ee-igh, Oh!\n",
      "And on the farm he had a  dog, Ee-igh, Ee-igh,Oh!\n",
      "With a woof, woof here and a woof, woof there.\n",
      "Here a woof, there a woof, everyehere a woof, woof.\n",
      "Old MacDonald had a farm, Ee-igh, Ee-igh, Oh!\n",
      "Old MacDonald had a farm, Ee-igh, Ee-igh, Oh!\n",
      "And on the farm he had a  cat, Ee-igh, Ee-igh,Oh!\n",
      "With a meow, meow here and a meow, meow there.\n",
      "Here a meow, there a meow, everyehere a meow, meow.\n",
      "Old MacDonald had a farm, Ee-igh, Ee-igh, Oh!\n"
     ]
    }
   ],
   "source": [
    "def animals(animal, sound):\n",
    "    print (\"Old MacDonald had a farm, Ee-igh, Ee-igh, Oh!\")\n",
    "    print (\"And on the farm he had a \", animal + \", Ee-igh, Ee-igh,Oh!\")\n",
    "    print (\"With a\", sound + \",\", sound, \"here and a\" , sound + \",\",sound + \" there.\")\n",
    "    print (\"Here a\", sound + \", there a\", sound + \", everyehere a\",sound  + \",\", sound + \".\")\n",
    "    print (\"Old MacDonald had a farm, Ee-igh, Ee-igh, Oh!\")\n",
    "    print\n",
    "    return animals\n",
    "\n",
    "def oldMac():\n",
    "    animals(\"cow\", \"moo\")\n",
    "    animals(\"pig\", \"oink\")\n",
    "    animals(\"horse\", \"neigh\")\n",
    "    animals(\"dog\", \"woof\")\n",
    "    animals(\"cat\", \"meow\")\n",
    "\n",
    "oldMac()"
   ]
  },
  {
   "cell_type": "markdown",
   "metadata": {},
   "source": [
    "3.Write definitions for these functions:\n",
    "sphereArea(radius) Returns the surface area of a sphere having the given radius.\n",
    "sphereVolume(radius) Returns the volume of a sphere having the given radius.\n",
    "Use your functions to solve Programming Exercise 1 from Chapter 3.\n",
    "V = 4/3π(r^3) A = 4π(r^2)"
   ]
  },
  {
   "cell_type": "code",
   "execution_count": 7,
   "metadata": {
    "collapsed": false
   },
   "outputs": [
    {
     "name": "stdout",
     "output_type": "stream",
     "text": [
      "Programa para calcular el area y volumen de una esfera.\n",
      "Por favor entre el radio de su esfera: 2\n",
      "\n",
      "con radio de 2, el área de la esfera es 50.27 y el volumen es 33.51.\n"
     ]
    }
   ],
   "source": [
    "import math\n",
    " \n",
    "def sphereArea(radius):\n",
    "    area = math.pi*4*(radius**2)\n",
    "    return area\n",
    " \n",
    "def sphereVolume(radius):\n",
    "    volume = (4/3)*math.pi*(radius**3)\n",
    "    return volume\n",
    " \n",
    "def main():\n",
    "    print('Programa para calcular el area y volumen de una esfera.')\n",
    "    ingresoradio = eval(input('Por favor entre el radio de su esfera: '))\n",
    "    area = sphereArea(ingresoradio)\n",
    "    vol = sphereVolume(ingresoradio)\n",
    "    print('\\ncon radio de {}, el área de la esfera es {:.2f} y el volumen es {:.2f}.'.format(ingresoradio,area,vol))\n",
    "     \n",
    "main()"
   ]
  },
  {
   "cell_type": "markdown",
   "metadata": {},
   "source": [
    "4.Write definitions for the following two functions:\n",
    "sumN(n) returns the sum of the first n natural numbers.\n",
    "sumNCubes(n) returns the sum of the cubes of the first n natural numbers.\n",
    "Then use these functions in a program that prompts a user for n and prints out the sum of the first n natural numbers and the sum of the cubes of the first n natural numbers."
   ]
  },
  {
   "cell_type": "code",
   "execution_count": 1,
   "metadata": {
    "collapsed": false
   },
   "outputs": [
    {
     "name": "stdout",
     "output_type": "stream",
     "text": [
      "por favor ingrese n:4\n",
      "la suma de los primeros n numeros es: 10\n",
      "la suma de los primeros n cubos es: 30\n"
     ]
    }
   ],
   "source": [
    "def sumN(n):\n",
    "    result = 0\n",
    "    for i in range(n+1):\n",
    "        result += i\n",
    "    return result\n",
    "\n",
    "def sumNCubes(n):\n",
    "    result = 0\n",
    "    for i in range(n+1):\n",
    "        result += i**2\n",
    "    return result\n",
    "\n",
    "def prompt_user():\n",
    "    n = int(input(\"por favor ingrese n:\"))\n",
    "    print(\"la suma de los primeros n numeros es:\", sumN(n))\n",
    "    print(\"la suma de los primeros n cubos es:\", sumNCubes(n))\n",
    "    \n",
    "prompt_user()"
   ]
  },
  {
   "cell_type": "markdown",
   "metadata": {},
   "source": [
    "11.Write and test a function to meet this specification.\n",
    "squareEach(nums) nums is a list of numbers. Modifies the list by squaring each entry."
   ]
  },
  {
   "cell_type": "code",
   "execution_count": 2,
   "metadata": {
    "collapsed": false
   },
   "outputs": [
    {
     "name": "stdout",
     "output_type": "stream",
     "text": [
      "un programa para obtener numeros al cuadrado.\n",
      "por favor ingrese varios numeros separados por una coma: 5,6,7\n",
      "\n",
      "este es el resultado:  [25, 36, 49]\n"
     ]
    }
   ],
   "source": [
    "def squareEach(nums):\n",
    "    entry = 0\n",
    "    for i in nums:\n",
    "        nums[entry] = i**2\n",
    "        entry = entry+1   \n",
    " \n",
    "def main():\n",
    "    print('un programa para obtener numeros al cuadrado.')\n",
    "    nums = input('por favor ingrese varios numeros separados por una coma: ')\n",
    "     \n",
    "    nums = nums.split(',')         \n",
    "                                   \n",
    "    entry = 0\n",
    "    for i in nums:                 \n",
    "        nums[entry] = int(i)\n",
    "        entry = entry+1           \n",
    "     \n",
    "    squareEach(nums)              \n",
    "                                    \n",
    "    print('\\neste es el resultado: ',nums)\n",
    "main()"
   ]
  },
  {
   "cell_type": "markdown",
   "metadata": {
    "collapsed": true
   },
   "source": [
    "12.Write and test a function to meet this specification.\n",
    "sumList(nums) nums is a list of numbers. Returns the sum of the numbers in the list."
   ]
  },
  {
   "cell_type": "code",
   "execution_count": 3,
   "metadata": {
    "collapsed": false
   },
   "outputs": [
    {
     "name": "stdout",
     "output_type": "stream",
     "text": [
      "un programa para sumar los números dados.\n",
      "por favor ingrese varios números separados por coma: 4,5,6\n",
      "\n",
      "la suma de los números es:15.\n"
     ]
    }
   ],
   "source": [
    "def sumList(nums):\n",
    "    total = 0\n",
    "    for i in nums:\n",
    "        total = total+i\n",
    "    return total\n",
    " \n",
    "def main():\n",
    "    print('un programa para sumar los números dados.')\n",
    "    nums = input('por favor ingrese varios números separados por coma: ')\n",
    "     \n",
    "    nums = nums.split(',')      \n",
    "        \n",
    "    entry = 0\n",
    "    for i in nums:                 \n",
    "        nums[entry] = int(i)\n",
    "        entry = entry+1 \n",
    "     \n",
    "    sumTotal = sumList(nums)     \n",
    "     \n",
    "    print('\\nla suma de los números es:{}.'.format(sumTotal))\n",
    "main()"
   ]
  },
  {
   "cell_type": "markdown",
   "metadata": {},
   "source": [
    "13.Write and test a function to meet this specification.\n",
    "toNumbers(strList) strList is a list of strings, each of which represents a number. Modifies each entry in the list by converting it to a number."
   ]
  },
  {
   "cell_type": "code",
   "execution_count": 2,
   "metadata": {
    "collapsed": false
   },
   "outputs": [
    {
     "data": {
      "text/plain": [
       "[1, 2, 3]"
      ]
     },
     "execution_count": 2,
     "metadata": {},
     "output_type": "execute_result"
    }
   ],
   "source": [
    "def toNumbers(strList):\n",
    "    return [int(num) for num in strList]\n",
    "\n",
    "a=['1','2','3']\n",
    "\n",
    "b=toNumbers(a)\n",
    "b"
   ]
  }
 ],
 "metadata": {
  "anaconda-cloud": {},
  "kernelspec": {
   "display_name": "Python [Root]",
   "language": "python",
   "name": "Python [Root]"
  },
  "language_info": {
   "codemirror_mode": {
    "name": "ipython",
    "version": 3
   },
   "file_extension": ".py",
   "mimetype": "text/x-python",
   "name": "python",
   "nbconvert_exporter": "python",
   "pygments_lexer": "ipython3",
   "version": "3.5.2"
  }
 },
 "nbformat": 4,
 "nbformat_minor": 0
}
